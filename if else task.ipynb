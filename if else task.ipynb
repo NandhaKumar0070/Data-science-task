{
 "cells": [
  {
   "cell_type": "markdown",
   "id": "0b0471a7",
   "metadata": {},
   "source": [
    "# College Grade\n",
    "***"
   ]
  },
  {
   "cell_type": "markdown",
   "id": "7432a597",
   "metadata": {},
   "source": [
    "# Import time\n",
    "***"
   ]
  },
  {
   "cell_type": "code",
   "execution_count": 1,
   "id": "d33d556d",
   "metadata": {},
   "outputs": [],
   "source": [
    "import time\n",
    "from time import time"
   ]
  },
  {
   "cell_type": "markdown",
   "id": "61aacb07",
   "metadata": {},
   "source": [
    "# 1.Program"
   ]
  },
  {
   "cell_type": "code",
   "execution_count": 2,
   "id": "afdc5209",
   "metadata": {},
   "outputs": [
    {
     "name": "stdout",
     "output_type": "stream",
     "text": [
      "enter your CGPA : 55\n",
      "second class\n",
      "0.0\n"
     ]
    }
   ],
   "source": [
    "x=int(input('enter your CGPA : '))\n",
    "start=time()\n",
    "if(x>=90):\n",
    "    print('First Class With Destinction')\n",
    "elif((x>=60) and (x<=89)) :\n",
    "    print('First Class')\n",
    "elif((x>=40) and (x<=59)):\n",
    "    print('second class')\n",
    "else:\n",
    "    print('You are Failed')\n",
    "end=time()\n",
    "print(end-start)"
   ]
  },
  {
   "cell_type": "markdown",
   "id": "2f0c106e",
   "metadata": {},
   "source": [
    "# 2.Program"
   ]
  },
  {
   "cell_type": "code",
   "execution_count": 3,
   "id": "2f254225",
   "metadata": {},
   "outputs": [
    {
     "name": "stdout",
     "output_type": "stream",
     "text": [
      "Enter your CGPA : 77\n",
      "First Class\n",
      "4.917119026184082\n"
     ]
    }
   ],
   "source": [
    "def allocate_cgpa(x):\n",
    "    if x >= 90:\n",
    "        grade = \"First Class with Distinction\"\n",
    "    elif ((x >= 60) and (x <= 89)):\n",
    "        grade = \"First Class\"\n",
    "    elif ((x >= 40) and (x <= 59)):\n",
    "        grade = \"Second Class\"\n",
    "    else:\n",
    "        grade = \"Your are Failed\"\n",
    "    return grade\n",
    "\n",
    "start = time()\n",
    "x = int(input(\"Enter your CGPA : \"))\n",
    "allocated_cgpa = allocate_cgpa(x)\n",
    "end = time()\n",
    "print(allocated_cgpa)\n",
    "print(end - start)"
   ]
  },
  {
   "cell_type": "markdown",
   "id": "4839e6a9",
   "metadata": {},
   "source": [
    "# 3.Program"
   ]
  },
  {
   "cell_type": "code",
   "execution_count": 4,
   "id": "bf201268",
   "metadata": {},
   "outputs": [
    {
     "name": "stdout",
     "output_type": "stream",
     "text": [
      "Enter your CGPA: 66\n",
      "First Class\n",
      "0.0\n"
     ]
    }
   ],
   "source": [
    "x = int(input(\"Enter your CGPA: \"))\n",
    "start = time()\n",
    "if x >= 90:\n",
    "    grade = \"First Class With Distinction\"\n",
    "if ((x >= 60) and (x <= 89)):\n",
    "    grade = \"First Class\"\n",
    "if ((x >= 40) and (x <= 59)):\n",
    "    grade = \"Second Class\"\n",
    "if x<40:\n",
    "    grade = \"Your are Failed\"\n",
    "end = time()\n",
    "print(grade)\n",
    "print(end - start)"
   ]
  }
 ],
 "metadata": {
  "kernelspec": {
   "display_name": "Python 3 (ipykernel)",
   "language": "python",
   "name": "python3"
  },
  "language_info": {
   "codemirror_mode": {
    "name": "ipython",
    "version": 3
   },
   "file_extension": ".py",
   "mimetype": "text/x-python",
   "name": "python",
   "nbconvert_exporter": "python",
   "pygments_lexer": "ipython3",
   "version": "3.8.8"
  }
 },
 "nbformat": 4,
 "nbformat_minor": 5
}
