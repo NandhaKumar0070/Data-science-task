{
 "cells": [
  {
   "cell_type": "markdown",
   "id": "b4d898e1",
   "metadata": {},
   "source": [
    "# Types of Operators\n",
    "***\n",
    "* Arithmetic Operators\n",
    "* Relational Operators\n",
    "* Logical Operators\n",
    "* Assignment Operators\n",
    "* Bitwise Operators"
   ]
  },
  {
   "cell_type": "markdown",
   "id": "8d321566",
   "metadata": {},
   "source": [
    "# Arithmetic Operators\n",
    "****\n",
    "* Addition (+)\n",
    "* Subtraction (-)\n",
    "* Multiplication (*)\n",
    "* Division (/)\n",
    "* Modules(%)"
   ]
  },
  {
   "cell_type": "code",
   "execution_count": 1,
   "id": "e5f0b3c4",
   "metadata": {},
   "outputs": [],
   "source": [
    "x=10\n",
    "y=5"
   ]
  },
  {
   "cell_type": "code",
   "execution_count": 3,
   "id": "a9f40aac",
   "metadata": {},
   "outputs": [
    {
     "name": "stdout",
     "output_type": "stream",
     "text": [
      "15\n",
      "5\n",
      "50\n",
      "2.0\n",
      "0\n"
     ]
    }
   ],
   "source": [
    "print(x+y) #addition\n",
    "print(x-y) #subtraction\n",
    "print(x*y) #multiplication\n",
    "print(x/y) #division\n",
    "print(x%y) #modules"
   ]
  },
  {
   "cell_type": "markdown",
   "id": "7cff2567",
   "metadata": {},
   "source": [
    "# Relational Operators\n",
    "***\n",
    "* Equal to (==)\n",
    "* not equal to (!=)\n",
    "* lesser than equal to (<=)\n",
    "* greater than equal to (>=)\n",
    "* Lesser than(<)\n",
    "* Greater than(>)"
   ]
  },
  {
   "cell_type": "code",
   "execution_count": 4,
   "id": "27811fbf",
   "metadata": {},
   "outputs": [],
   "source": [
    "x=10\n",
    "y=20"
   ]
  },
  {
   "cell_type": "code",
   "execution_count": 5,
   "id": "3d1a73a0",
   "metadata": {},
   "outputs": [
    {
     "name": "stdout",
     "output_type": "stream",
     "text": [
      "False\n",
      "True\n",
      "True\n",
      "False\n",
      "True\n",
      "False\n"
     ]
    }
   ],
   "source": [
    "print(x==y) #equal to\n",
    "print(x!=y) #not equal to\n",
    "print(x<=y) #lesser than or equal to\n",
    "print(x>=y) #greater than or equal to\n",
    "print(x<y) #lesser than\n",
    "print(x>y) #greater than"
   ]
  },
  {
   "cell_type": "markdown",
   "id": "ce9c9c96",
   "metadata": {},
   "source": [
    "# Logical Operators\n",
    "***\n",
    "* Unary Operators\n",
    "    * NOT \n",
    "* Binary Operators\n",
    "    * AND \n",
    "    * OR "
   ]
  },
  {
   "cell_type": "code",
   "execution_count": 15,
   "id": "b74f0010",
   "metadata": {},
   "outputs": [],
   "source": [
    "x = True\n",
    "y = False"
   ]
  },
  {
   "cell_type": "code",
   "execution_count": 16,
   "id": "c1e22343",
   "metadata": {},
   "outputs": [
    {
     "name": "stdout",
     "output_type": "stream",
     "text": [
      "False\n",
      "True\n",
      "False\n"
     ]
    }
   ],
   "source": [
    "print(x and y)\n",
    "print(x or y)\n",
    "print(not x)"
   ]
  },
  {
   "cell_type": "markdown",
   "id": "1602c491",
   "metadata": {},
   "source": [
    "# Bitwise Operators\n",
    "***\n",
    "* Bitwise AND (&)\n",
    "* Bitwise OR (|)\n",
    "* Bitwise NOT (~)\n",
    "* Bitwise XOR (^)\n",
    "* Bitwise RightShift (>>)\n",
    "* Bitwise LeftSwift (<<)"
   ]
  },
  {
   "cell_type": "code",
   "execution_count": 17,
   "id": "0310c8fe",
   "metadata": {},
   "outputs": [],
   "source": [
    "x = 10\n",
    "y = 4"
   ]
  },
  {
   "cell_type": "code",
   "execution_count": 18,
   "id": "094eaf7f",
   "metadata": {},
   "outputs": [
    {
     "name": "stdout",
     "output_type": "stream",
     "text": [
      "0\n",
      "14\n",
      "-11\n",
      "14\n",
      "2\n",
      "40\n"
     ]
    }
   ],
   "source": [
    "print(x & y)\n",
    "print(x | y)\n",
    "print(~x)\n",
    "print(x ^ y)\n",
    "print(x >> 2)\n",
    "print(x << 2)"
   ]
  },
  {
   "cell_type": "markdown",
   "id": "57e6eb24",
   "metadata": {},
   "source": [
    "# Assignment Operators\n",
    "***\n",
    "* Assign (=)\n",
    "* Add Assign (+=)\n",
    "* Sub Assign (-=)\n",
    "* Multiply Assign (*=)\n",
    "* Divide Assign (/=)\n",
    "* Modules Assign (%=)"
   ]
  },
  {
   "cell_type": "code",
   "execution_count": 19,
   "id": "b6139faf",
   "metadata": {},
   "outputs": [],
   "source": [
    "x=10"
   ]
  },
  {
   "cell_type": "code",
   "execution_count": 21,
   "id": "9871fb22",
   "metadata": {},
   "outputs": [
    {
     "name": "stdout",
     "output_type": "stream",
     "text": [
      "10\n",
      "20\n",
      "10\n",
      "100\n",
      "10.0\n",
      "0.0\n"
     ]
    }
   ],
   "source": [
    "y=x\n",
    "print(y)\n",
    "y += x\n",
    "print(y)\n",
    "y -= x\n",
    "print(y)\n",
    "y *= x\n",
    "print(y)\n",
    "y /= x\n",
    "print(y)\n",
    "y %= x\n",
    "print(y)"
   ]
  }
 ],
 "metadata": {
  "kernelspec": {
   "display_name": "Python 3 (ipykernel)",
   "language": "python",
   "name": "python3"
  },
  "language_info": {
   "codemirror_mode": {
    "name": "ipython",
    "version": 3
   },
   "file_extension": ".py",
   "mimetype": "text/x-python",
   "name": "python",
   "nbconvert_exporter": "python",
   "pygments_lexer": "ipython3",
   "version": "3.8.8"
  }
 },
 "nbformat": 4,
 "nbformat_minor": 5
}
