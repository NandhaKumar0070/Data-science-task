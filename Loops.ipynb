{
 "cells": [
  {
   "cell_type": "markdown",
   "id": "6923d780",
   "metadata": {},
   "source": [
    "# Loops\n",
    "***"
   ]
  },
  {
   "cell_type": "markdown",
   "id": "b0e1f314",
   "metadata": {},
   "source": [
    "# 1.Create a function that takes a base number and an exponent number and returns the calculation"
   ]
  },
  {
   "cell_type": "code",
   "execution_count": 1,
   "id": "e7b986ab",
   "metadata": {},
   "outputs": [
    {
     "name": "stdout",
     "output_type": "stream",
     "text": [
      "Enter the base number: 2\n",
      "Enter the exponent number: 2\n",
      "Result: 4\n"
     ]
    }
   ],
   "source": [
    "x = int(input(\"Enter the base number: \"))\n",
    "y = int(input(\"Enter the exponent number: \"))\n",
    "\n",
    "result = 1\n",
    "while y > 0:\n",
    "    result *= x\n",
    "    y -= 1\n",
    "\n",
    "print(\"Result:\", result)\n"
   ]
  },
  {
   "cell_type": "markdown",
   "id": "66b36b65",
   "metadata": {},
   "source": [
    "# 2.Find the Largest Number in a List"
   ]
  },
  {
   "cell_type": "code",
   "execution_count": 2,
   "id": "6576f5a5",
   "metadata": {},
   "outputs": [
    {
     "name": "stdout",
     "output_type": "stream",
     "text": [
      "The largest number in the list of [3, 5, 6, 7, 9, 11, 4] is 11\n"
     ]
    }
   ],
   "source": [
    "x=[3,5,6,7,9,11,4]\n",
    "lar=x[0]\n",
    "i=1\n",
    "while i<len(x):\n",
    "    if x[i]>lar:\n",
    "        lar=x[i]\n",
    "    i+=1\n",
    "print(f'The largest number in the list of {x} is {lar}')    "
   ]
  },
  {
   "cell_type": "markdown",
   "id": "32e766ba",
   "metadata": {},
   "source": [
    "# 3.Find the Smallest Number in a List"
   ]
  },
  {
   "cell_type": "code",
   "execution_count": 3,
   "id": "f8535dc9",
   "metadata": {},
   "outputs": [
    {
     "name": "stdout",
     "output_type": "stream",
     "text": [
      "The Smallest number in the list of [3, 5, 6, 7, 9, 4] is 3\n"
     ]
    }
   ],
   "source": [
    "x=[3,5,6,7,9,4]\n",
    "sml=x[0]\n",
    "i=1\n",
    "while i<len(x):\n",
    "    if x[i]<sml:\n",
    "        sml=x[i]\n",
    "    i+=1\n",
    "print(f'The Smallest number in the list of {x} is {sml}')    "
   ]
  },
  {
   "cell_type": "markdown",
   "id": "c205222c",
   "metadata": {},
   "source": [
    "# 4.Difference of Max and Min Numbers in List"
   ]
  },
  {
   "cell_type": "code",
   "execution_count": 4,
   "id": "c3ea79b3",
   "metadata": {},
   "outputs": [
    {
     "name": "stdout",
     "output_type": "stream",
     "text": [
      "Difference of Max and Min Numbers in List [3, 5, 6, 7, 9, 11, 4] , Max 11 & Min 3\n"
     ]
    }
   ],
   "source": [
    "x=[3,5,6,7,9,11,4]\n",
    "lar=x[0]\n",
    "i=1\n",
    "while i<len(x):\n",
    "    if x[i]>lar:\n",
    "        lar=x[i]\n",
    "    i+=1\n",
    "sml=x[0]\n",
    "i=1\n",
    "while i<len(x):\n",
    "    if x[i]<sml:\n",
    "        sml=x[i]\n",
    "    i+=1    \n",
    "print(f'Difference of Max and Min Numbers in List {x} , Max {lar} & Min {sml}')  "
   ]
  },
  {
   "cell_type": "markdown",
   "id": "a8b2d2fe",
   "metadata": {},
   "source": [
    "# 5.Get the Sum of All List Elements"
   ]
  },
  {
   "cell_type": "code",
   "execution_count": 5,
   "id": "4e404bf7",
   "metadata": {},
   "outputs": [
    {
     "name": "stdout",
     "output_type": "stream",
     "text": [
      "The sum of all list Elements :  45\n"
     ]
    }
   ],
   "source": [
    "x=[3,5,6,7,9,11,4]\n",
    "sum=0\n",
    "i=0\n",
    "while i<len(x):\n",
    "    sum+=x[i]\n",
    "    i+=1\n",
    "print('The sum of all list Elements : ',sum)   "
   ]
  },
  {
   "cell_type": "markdown",
   "id": "89899e50",
   "metadata": {},
   "source": [
    "# 6.Convert Number to String of Dashes"
   ]
  },
  {
   "cell_type": "code",
   "execution_count": 6,
   "id": "2b5ba870",
   "metadata": {},
   "outputs": [
    {
     "name": "stdout",
     "output_type": "stream",
     "text": [
      "Enter the Number : 4\n",
      "----\n"
     ]
    }
   ],
   "source": [
    "x=int(input('Enter the Number : '))\n",
    "i=0\n",
    "result=''\n",
    "while i<x:\n",
    "    result+='-'\n",
    "    i+=1\n",
    "print(result)    "
   ]
  },
  {
   "cell_type": "markdown",
   "id": "916007b5",
   "metadata": {},
   "source": [
    "# 7.Write a function that takes an integer and returns a string with the given number of \"a\"s in Edabit."
   ]
  },
  {
   "cell_type": "code",
   "execution_count": 8,
   "id": "7b8b3951",
   "metadata": {},
   "outputs": [
    {
     "name": "stdout",
     "output_type": "stream",
     "text": [
      "Enter the number : 0\n",
      "Edbit\n"
     ]
    }
   ],
   "source": [
    "x=int(input('Enter the number : '))\n",
    "i=0\n",
    "result=''\n",
    "while i<x:\n",
    "    result+='a'\n",
    "    i+=1\n",
    "print(f'Ed{result}bit')    "
   ]
  },
  {
   "cell_type": "markdown",
   "id": "b4fcf698",
   "metadata": {},
   "source": [
    "# 8.Recreating a len() Function without using len()"
   ]
  },
  {
   "cell_type": "code",
   "execution_count": 17,
   "id": "c9e18959",
   "metadata": {},
   "outputs": [
    {
     "name": "stdout",
     "output_type": "stream",
     "text": [
      "Enter the string : school\n",
      "6\n"
     ]
    }
   ],
   "source": [
    "x=input('Enter the string : ')\n",
    "count = 0\n",
    "for char in x:\n",
    "    count += 1\n",
    "print(count)    "
   ]
  },
  {
   "cell_type": "markdown",
   "id": "1ae6a2da",
   "metadata": {},
   "source": [
    "# 9.Buggy Code"
   ]
  },
  {
   "cell_type": "code",
   "execution_count": 10,
   "id": "892b4d43",
   "metadata": {},
   "outputs": [
    {
     "name": "stdout",
     "output_type": "stream",
     "text": [
      "Enter the number : 5\n",
      "[1, 2, 3, 4, 5]\n"
     ]
    }
   ],
   "source": [
    "x=int(input('Enter the number : '))\n",
    "i=1\n",
    "result=[]\n",
    "while i<=x:\n",
    "    result.append(i)\n",
    "    i+=1\n",
    "print(result)    "
   ]
  },
  {
   "cell_type": "markdown",
   "id": "d9f5e9fb",
   "metadata": {},
   "source": [
    "# 10.Count Instances of a Character in a String"
   ]
  },
  {
   "cell_type": "code",
   "execution_count": 19,
   "id": "00960730",
   "metadata": {},
   "outputs": [
    {
     "name": "stdout",
     "output_type": "stream",
     "text": [
      "Enter the String : malayalam\n",
      "Enter the instances : m\n",
      "2\n"
     ]
    }
   ],
   "source": [
    "x=input('Enter the String : ')\n",
    "y=input('Enter the instances : ')\n",
    "count=0\n",
    "for char in x:\n",
    "    if char == y:\n",
    "        count+=1\n",
    "print(count)    "
   ]
  },
  {
   "cell_type": "markdown",
   "id": "3d310cb9",
   "metadata": {},
   "source": [
    "# 11.Factors of a Given Number"
   ]
  },
  {
   "cell_type": "code",
   "execution_count": 25,
   "id": "452b5e0b",
   "metadata": {},
   "outputs": [
    {
     "name": "stdout",
     "output_type": "stream",
     "text": [
      "Enter the number : 20\n",
      "[1, 2, 4, 5, 10, 20]\n"
     ]
    }
   ],
   "source": [
    "x=int(input('Enter the number : '))\n",
    "i=[]\n",
    "a=1\n",
    "for a in range(1,x+1):\n",
    "    if x%a == 0:\n",
    "        i.append(a)\n",
    "    a+=1\n",
    "print(i)    "
   ]
  },
  {
   "cell_type": "markdown",
   "id": "64639710",
   "metadata": {},
   "source": [
    "# 12.Sum of the Odd Numbers"
   ]
  },
  {
   "cell_type": "code",
   "execution_count": 28,
   "id": "5b03fc18",
   "metadata": {},
   "outputs": [
    {
     "name": "stdout",
     "output_type": "stream",
     "text": [
      "Enter the odd number : 5\n",
      "The sum of odd number is 9\n"
     ]
    }
   ],
   "source": [
    "x=int(input('Enter the odd number : '))\n",
    "i=1\n",
    "sum=0\n",
    "for i in range(1,x+1):\n",
    "    if i % 2 != 0:\n",
    "        sum+=i\n",
    "    i+=1\n",
    "print(f'The sum of odd number is {sum}')    "
   ]
  },
  {
   "cell_type": "markdown",
   "id": "5c1353e5",
   "metadata": {},
   "source": [
    "# 13.Summing the Squares"
   ]
  },
  {
   "cell_type": "code",
   "execution_count": 30,
   "id": "959baf34",
   "metadata": {},
   "outputs": [
    {
     "name": "stdout",
     "output_type": "stream",
     "text": [
      "Enter the number : 9\n",
      "285\n"
     ]
    }
   ],
   "source": [
    "x=int(input('Enter the number : '))\n",
    "sum=0\n",
    "i=1\n",
    "for i in range(1,x+1):\n",
    "    sum+=i*i\n",
    "print(sum)    "
   ]
  },
  {
   "cell_type": "markdown",
   "id": "e380948c",
   "metadata": {},
   "source": [
    "# 14.Additive Inverse"
   ]
  },
  {
   "cell_type": "code",
   "execution_count": 32,
   "id": "c36a35de",
   "metadata": {},
   "outputs": [
    {
     "name": "stdout",
     "output_type": "stream",
     "text": [
      "Enter the number of element in List :4\n",
      "Enter the number of list : 1\n",
      "Enter the number of list : -2\n",
      "Enter the number of list : 3\n",
      "Enter the number of list : -4\n",
      "Additive inverse of [1, -2, 3, -4] is [-1, 2, -3, 4]\n"
     ]
    }
   ],
   "source": [
    "x=int(input('Enter the number of element in List :'))\n",
    "arr = []\n",
    "b=[]\n",
    "for i in range(x) :\n",
    "    a=int(input('Enter the number of list : '))\n",
    "    b.append(a)\n",
    "    arr.append(a*-1)\n",
    "print(f'Additive inverse of {b} is {arr}')"
   ]
  },
  {
   "cell_type": "markdown",
   "id": "c4af1dca",
   "metadata": {},
   "source": [
    "# 15.Give Me the Even Numbers"
   ]
  },
  {
   "cell_type": "code",
   "execution_count": 33,
   "id": "6913db24",
   "metadata": {},
   "outputs": [
    {
     "name": "stdout",
     "output_type": "stream",
     "text": [
      "Enter the start range : 10\n",
      "Enter the end range : 20\n",
      "90\n"
     ]
    }
   ],
   "source": [
    "x=int(input('Enter the start range : '))\n",
    "y=int(input('Enter the end range : '))\n",
    "sum=0\n",
    "for ele in range(x,y+1):\n",
    "    if ele%2 == 0:\n",
    "        sum+=ele\n",
    "    ele+=1\n",
    "print(sum)    "
   ]
  },
  {
   "cell_type": "markdown",
   "id": "f3019c9c",
   "metadata": {},
   "source": [
    "# 16.Is the String a Palindrome?"
   ]
  },
  {
   "cell_type": "code",
   "execution_count": 3,
   "id": "98366423",
   "metadata": {},
   "outputs": [
    {
     "name": "stdout",
     "output_type": "stream",
     "text": [
      "Enter the String : malayalam\n",
      "True\n"
     ]
    }
   ],
   "source": [
    "x=input('Enter the String : ')\n",
    "y=x[::-1]\n",
    "if x == y:\n",
    "    print('True')\n",
    "else:\n",
    "    print('False')"
   ]
  },
  {
   "cell_type": "markdown",
   "id": "91d134b7",
   "metadata": {},
   "source": [
    "# 17.List of Consecutive Numbers"
   ]
  },
  {
   "cell_type": "code",
   "execution_count": 4,
   "id": "e9637164",
   "metadata": {},
   "outputs": [
    {
     "name": "stdout",
     "output_type": "stream",
     "text": [
      "Enter The start : 5\n",
      "Enter the end : 9\n",
      "[5, 6, 7, 8, 9]\n"
     ]
    }
   ],
   "source": [
    "x=int(input('Enter The start : '))\n",
    "y=int(input('Enter the end : '))\n",
    "i=[]\n",
    "for ele in range(x,y+1):\n",
    "    i.append(ele)\n",
    "    ele+=1\n",
    "print(i)    "
   ]
  },
  {
   "cell_type": "markdown",
   "id": "600f0330",
   "metadata": {},
   "source": [
    "# 18.Find the Index"
   ]
  },
  {
   "cell_type": "code",
   "execution_count": 2,
   "id": "19b377bd",
   "metadata": {},
   "outputs": [
    {
     "name": "stdout",
     "output_type": "stream",
     "text": [
      "Enter the no of elememts in the list : 5\n",
      "enter the elements in the list : 1\n",
      "enter the elements in the list : 3\n",
      "enter the elements in the list : 5\n",
      "enter the elements in the list : 7\n",
      "enter the elements in the list : 9\n",
      "Enter the number : 7\n",
      "3\n"
     ]
    }
   ],
   "source": [
    "a=int(input('Enter the no of elememts in the list : '))\n",
    "x=[]\n",
    "for ele in range(0,a):\n",
    "    b=int(input('enter the elements in the list : '))\n",
    "    x.append(b)\n",
    "    ele=+1\n",
    "i=int(input('Enter the number : '))\n",
    "print(x.index(i))    "
   ]
  },
  {
   "cell_type": "markdown",
   "id": "b05d9e37",
   "metadata": {},
   "source": [
    "# 19.Count the Capital Letters"
   ]
  },
  {
   "cell_type": "code",
   "execution_count": 4,
   "id": "a18226cb",
   "metadata": {},
   "outputs": [
    {
     "name": "stdout",
     "output_type": "stream",
     "text": [
      "Enter the string : ABCdefGHI\n",
      "6\n"
     ]
    }
   ],
   "source": [
    "x=input('Enter the string : ')\n",
    "count=0\n",
    "for char in x:\n",
    "    if char.isupper():\n",
    "        count+=1\n",
    "print(count)        "
   ]
  },
  {
   "cell_type": "markdown",
   "id": "577f97d5",
   "metadata": {},
   "source": [
    "# 20.N Tables + 1"
   ]
  },
  {
   "cell_type": "code",
   "execution_count": 17,
   "id": "6d57e0a5",
   "metadata": {},
   "outputs": [
    {
     "name": "stdout",
     "output_type": "stream",
     "text": [
      "Enter the number : 4\n",
      "[5, 9, 13, 17, 21, 25, 29, 33, 37, 41]\n"
     ]
    }
   ],
   "source": [
    "x=int(input('Enter the number : '))\n",
    "a=[]\n",
    "st=0\n",
    "for ele in range(1,11):\n",
    "    st=ele*x+1\n",
    "    a.append(st)\n",
    "    ele+=1\n",
    "print(a)    "
   ]
  },
  {
   "cell_type": "markdown",
   "id": "63220c0f",
   "metadata": {},
   "source": [
    "# 21.Sum of Cubes"
   ]
  },
  {
   "cell_type": "code",
   "execution_count": 19,
   "id": "17b34069",
   "metadata": {},
   "outputs": [
    {
     "name": "stdout",
     "output_type": "stream",
     "text": [
      "Enter the no of elements : 3\n",
      "Enter the number : 1\n",
      "Enter the number : 5\n",
      "Enter the number : 9\n",
      "855\n"
     ]
    }
   ],
   "source": [
    "x=int(input(\"Enter the no of elements : \"))\n",
    "sum = 0\n",
    "for ele in range (1,x+1):\n",
    "    y=int(input(\"Enter the number : \"))\n",
    "    sum+=y*y*y\n",
    "    ele+=1\n",
    "print(sum)    "
   ]
  },
  {
   "cell_type": "markdown",
   "id": "cbec5c3e",
   "metadata": {},
   "source": [
    "# 22.Generate a Countdown of Numbers in a List"
   ]
  },
  {
   "cell_type": "code",
   "execution_count": 30,
   "id": "48ecfc17",
   "metadata": {},
   "outputs": [
    {
     "name": "stdout",
     "output_type": "stream",
     "text": [
      "Enter the number : 0\n",
      "[0]\n"
     ]
    }
   ],
   "source": [
    "x=int(input('Enter the number : '))\n",
    "i=[]\n",
    "for x in range(x,-1,-1):\n",
    "    i.append(x)\n",
    "print(i)    "
   ]
  },
  {
   "cell_type": "markdown",
   "id": "804c105a",
   "metadata": {},
   "source": [
    "# 23.Multiply by Length"
   ]
  },
  {
   "cell_type": "code",
   "execution_count": 31,
   "id": "d544210f",
   "metadata": {},
   "outputs": [
    {
     "name": "stdout",
     "output_type": "stream",
     "text": [
      "Enter the no of elements : 4\n",
      "Enter the number : 1\n",
      "Enter the number : 2\n",
      "Enter the number : 3\n",
      "Enter the number : 4\n",
      "[4, 8, 12, 16]\n"
     ]
    }
   ],
   "source": [
    "x=int(input('Enter the no of elements : '))\n",
    "i=[]\n",
    "mul=0\n",
    "for ele in range(0,x):\n",
    "    a=int(input('Enter the number : '))\n",
    "    mul=a*x\n",
    "    i.append(mul)\n",
    "print(i)    "
   ]
  },
  {
   "cell_type": "markdown",
   "id": "2fa001c1",
   "metadata": {},
   "source": [
    "# 24.How Many Digits?"
   ]
  },
  {
   "cell_type": "code",
   "execution_count": 2,
   "id": "d1df1a90",
   "metadata": {},
   "outputs": [
    {
     "name": "stdout",
     "output_type": "stream",
     "text": [
      "Enter the number : 100\n",
      "3\n"
     ]
    }
   ],
   "source": [
    "import math\n",
    "x=int(input(\"Enter the number : \"))\n",
    "print(int(math.log10(x)) + 1) #The math.log10() method returns the base-10 logarithm of a number"
   ]
  },
  {
   "cell_type": "markdown",
   "id": "78f50192",
   "metadata": {},
   "source": [
    "# 25.Pyramid Lists"
   ]
  },
  {
   "cell_type": "code",
   "execution_count": 3,
   "id": "86666609",
   "metadata": {},
   "outputs": [
    {
     "name": "stdout",
     "output_type": "stream",
     "text": [
      "Enter the number : 3\n",
      "[[1], [2, 2], [3, 3, 3]]\n"
     ]
    }
   ],
   "source": [
    "x=int(input('Enter the number : '))\n",
    "i=[]\n",
    "y=0\n",
    "for ele in range(1, x+ 1):\n",
    "        y = [ele] * ele\n",
    "        i.append(y)\n",
    "print (i)        "
   ]
  },
  {
   "cell_type": "markdown",
   "id": "c6815f9f",
   "metadata": {},
   "source": [
    "# 26.Repeating Letters N Times"
   ]
  },
  {
   "cell_type": "code",
   "execution_count": 4,
   "id": "4408fcbe",
   "metadata": {},
   "outputs": [
    {
     "name": "stdout",
     "output_type": "stream",
     "text": [
      "Enter the sting : hello\n",
      "Enter the no of time : 3\n",
      "hhheeellllllooo\n"
     ]
    }
   ],
   "source": [
    "x=input('Enter the sting : ')\n",
    "n=int(input('Enter the no of time : '))\n",
    "a=\"\"\n",
    "for char in x:\n",
    "    a += char * n\n",
    "print(a)    "
   ]
  },
  {
   "cell_type": "markdown",
   "id": "6acd349d",
   "metadata": {},
   "source": [
    "# 27.Odd Up, Even Down"
   ]
  },
  {
   "cell_type": "code",
   "execution_count": 5,
   "id": "5cf8dc86",
   "metadata": {},
   "outputs": [
    {
     "name": "stdout",
     "output_type": "stream",
     "text": [
      "[2, 1, 4, 3, 6]\n"
     ]
    }
   ],
   "source": [
    "x=[1,2,3,4,5]\n",
    "i=[]\n",
    "for ele in x:\n",
    "    if ele%2==0:\n",
    "        ele-=1\n",
    "        i.append(ele)\n",
    "    else:\n",
    "        ele+=1\n",
    "        i.append(ele)\n",
    "print(i)        "
   ]
  },
  {
   "cell_type": "markdown",
   "id": "f32acad7",
   "metadata": {},
   "source": [
    "# 28.Absolute Sum"
   ]
  },
  {
   "cell_type": "code",
   "execution_count": 6,
   "id": "26a1c0ca",
   "metadata": {},
   "outputs": [
    {
     "name": "stdout",
     "output_type": "stream",
     "text": [
      "enter the no of elements :5\n",
      "Enter the number : -1\n",
      "Enter the number : 2\n",
      "Enter the number : -3\n",
      "Enter the number : -6\n",
      "Enter the number : 9\n",
      "The sum of the list [-1, 2, -3, -6, 9] is 21\n"
     ]
    }
   ],
   "source": [
    "x=int(input('enter the no of elements :'))\n",
    "i=[]\n",
    "sum=0\n",
    "for ele in range(0,x):\n",
    "    a=int(input('Enter the number : '))\n",
    "    i.append(a)\n",
    "    sum+=abs(a)\n",
    "print(f'The sum of the list {i} is {sum}')    "
   ]
  },
  {
   "cell_type": "markdown",
   "id": "45296fa8",
   "metadata": {},
   "source": [
    "# 29.Word Endings"
   ]
  },
  {
   "cell_type": "code",
   "execution_count": 8,
   "id": "c5c5b430",
   "metadata": {},
   "outputs": [
    {
     "name": "stdout",
     "output_type": "stream",
     "text": [
      "Enter the no of string : 3\n",
      "Enter the word to add : ly\n",
      "Enter the string : slow\n",
      "Enter the string : fast\n",
      "Enter the string : exact\n",
      "['slowly', 'fastly', 'exactly']\n"
     ]
    }
   ],
   "source": [
    "x=int(input('Enter the no of string : '))\n",
    "i=[]\n",
    "a=input('Enter the word to add : ')\n",
    "for ele in range(0,x):\n",
    "    b=input('Enter the string : ')\n",
    "    i.append(b+a) \n",
    "print(i)    "
   ]
  },
  {
   "cell_type": "markdown",
   "id": "627c5545",
   "metadata": {},
   "source": [
    "# 30.How Many Vowels?"
   ]
  },
  {
   "cell_type": "code",
   "execution_count": 10,
   "id": "73d7fc92",
   "metadata": {},
   "outputs": [
    {
     "name": "stdout",
     "output_type": "stream",
     "text": [
      "Enter the string : hello\n",
      "2\n"
     ]
    }
   ],
   "source": [
    "x=input('Enter the string : ')\n",
    "i=['a','e','i','o','u']\n",
    "count=0\n",
    "for ele in range(0,len(x)):\n",
    "    if x[ele] in i:\n",
    "        count+=1\n",
    "print(count)"
   ]
  },
  {
   "cell_type": "markdown",
   "id": "afaa46e5",
   "metadata": {},
   "source": [
    "# 31.Filter out Strings from an Array"
   ]
  },
  {
   "cell_type": "code",
   "execution_count": 12,
   "id": "57e08275",
   "metadata": {},
   "outputs": [
    {
     "name": "stdout",
     "output_type": "stream",
     "text": [
      "Enter the no of elements : 5\n",
      "Enter the elements : 1\n",
      "Enter the elements : a\n",
      "Enter the elements : 3\n",
      "Enter the elements : 5\n",
      "Enter the elements : d\n",
      "['1', '3', '5']\n"
     ]
    }
   ],
   "source": [
    "x=int(input('Enter the no of elements : '))\n",
    "i=[]\n",
    "for ele in range(0,x):\n",
    "    a=input('Enter the elements : ')\n",
    "    if  a.isdigit():\n",
    "        i.append(a)\n",
    "print(i)        "
   ]
  },
  {
   "cell_type": "markdown",
   "id": "c77ffb7e",
   "metadata": {},
   "source": [
    "# 32.Reverse Coding Challenge"
   ]
  },
  {
   "cell_type": "code",
   "execution_count": 14,
   "id": "1ffeaa29",
   "metadata": {},
   "outputs": [
    {
     "name": "stdout",
     "output_type": "stream",
     "text": [
      "Enter the no of element : 5\n",
      "Enter the reverse number : 2\n",
      "Enter the number : 5\n",
      "Enter the number : 7\n",
      "Enter the number : 8\n",
      "Enter the number : 2\n",
      "Enter the number : 1\n",
      "[1, 1, 0, 0, 1]\n"
     ]
    }
   ],
   "source": [
    "x=int(input('Enter the no of element : '))\n",
    "i=[]\n",
    "j=int(input('Enter the reverse number : '))\n",
    "for ele in range(0,x):\n",
    "    a=int(input('Enter the number : '))\n",
    "    i.append(a%j)\n",
    "print(i)    "
   ]
  },
  {
   "cell_type": "markdown",
   "id": "6a3a8fb2",
   "metadata": {},
   "source": [
    "# 33.Return Last Item"
   ]
  },
  {
   "cell_type": "code",
   "execution_count": 2,
   "id": "e0f63a25",
   "metadata": {},
   "outputs": [
    {
     "name": "stdout",
     "output_type": "stream",
     "text": [
      "enter the string : hello\n",
      "o\n"
     ]
    }
   ],
   "source": [
    "x=input('enter the string : ')\n",
    "if len(x)==0:\n",
    "    print('None')\n",
    "else:\n",
    "    print(x[-1])"
   ]
  },
  {
   "cell_type": "markdown",
   "id": "1022d6cd",
   "metadata": {},
   "source": [
    "# 34.Word Numbers!"
   ]
  },
  {
   "cell_type": "code",
   "execution_count": 4,
   "id": "e7b5f009",
   "metadata": {},
   "outputs": [
    {
     "name": "stdout",
     "output_type": "stream",
     "text": [
      "Enter the number in words : nine\n",
      "9\n"
     ]
    }
   ],
   "source": [
    "x={'one':1,'two':2,'three':3,'four':4,'five':5,'six':6,'seven':7,'eight':8,'nine':9,'zero':0}\n",
    "a=input('Enter the number in words : ')\n",
    "print(x.get(a))"
   ]
  },
  {
   "cell_type": "markdown",
   "id": "f27ba8b0",
   "metadata": {},
   "source": [
    "# 35.Add a Consecutive List of Numbers"
   ]
  },
  {
   "cell_type": "code",
   "execution_count": 5,
   "id": "aad417c6",
   "metadata": {},
   "outputs": [
    {
     "name": "stdout",
     "output_type": "stream",
     "text": [
      "Enter the number : 10\n",
      "55\n"
     ]
    }
   ],
   "source": [
    "x=int(input('Enter the number : '))\n",
    "sum=0\n",
    "for ele in range(0,x+1):\n",
    "    sum+=ele\n",
    "print(sum)    "
   ]
  },
  {
   "cell_type": "markdown",
   "id": "11539314",
   "metadata": {},
   "source": [
    "# 36.Hashes and Pluses"
   ]
  },
  {
   "cell_type": "code",
   "execution_count": 9,
   "id": "c477f880",
   "metadata": {},
   "outputs": [
    {
     "name": "stdout",
     "output_type": "stream",
     "text": [
      "Enter the string : ###+++#++\n",
      "[4,5]\n"
     ]
    }
   ],
   "source": [
    "x=input(\"Enter the string : \")\n",
    "a=0\n",
    "b=0\n",
    "i=0\n",
    "for char in x:\n",
    "    if char == \"#\":\n",
    "        a+=1\n",
    "    elif char == '+':\n",
    "        b+=1\n",
    "print(f'[{a},{b}]')    "
   ]
  },
  {
   "cell_type": "markdown",
   "id": "af7e0760",
   "metadata": {},
   "source": [
    "# 37.Compare by ASCII Codes"
   ]
  },
  {
   "cell_type": "code",
   "execution_count": 12,
   "id": "f9a53017",
   "metadata": {},
   "outputs": [
    {
     "name": "stdout",
     "output_type": "stream",
     "text": [
      "Enter the First string : hey\n",
      "Enter the Second string : man\n",
      "hey 326\n"
     ]
    }
   ],
   "source": [
    "x=input('Enter the First string : ')\n",
    "y=input('Enter the Second string : ')\n",
    "sum1=0\n",
    "sum2=0\n",
    "for char in x:\n",
    "    sum1+=ord(char)\n",
    "for char in x:\n",
    "    sum2+=ord(char)\n",
    "if sum1<sum2:\n",
    "    print(y,sum2)\n",
    "else:\n",
    "    print(x,sum1)"
   ]
  },
  {
   "cell_type": "markdown",
   "id": "6a4a82a0",
   "metadata": {},
   "source": [
    "# 38.True Ones, False Zeros"
   ]
  },
  {
   "cell_type": "code",
   "execution_count": 19,
   "id": "4b073ac1",
   "metadata": {},
   "outputs": [
    {
     "name": "stdout",
     "output_type": "stream",
     "text": [
      "Enter the boolean numbers : 100100011\n",
      "['True', 'False', 'False', 'True', 'False', 'False', 'False', 'True', 'True']\n"
     ]
    }
   ],
   "source": [
    "x=input('Enter the boolean numbers : ')\n",
    "i=[]\n",
    "a='True'\n",
    "b='False'\n",
    "y=0\n",
    "while y<len(x):\n",
    "    if x[y] == '1':\n",
    "        i.append(a)\n",
    "    else:\n",
    "        i.append(b)\n",
    "    y+=1    \n",
    "print(i)        "
   ]
  },
  {
   "cell_type": "markdown",
   "id": "113a64ce",
   "metadata": {},
   "source": [
    "# 39.Find the Index"
   ]
  },
  {
   "cell_type": "code",
   "execution_count": 21,
   "id": "34dd1606",
   "metadata": {},
   "outputs": [
    {
     "name": "stdout",
     "output_type": "stream",
     "text": [
      "Enter the no of element : 4\n",
      "Enter the element : 1\n",
      "Enter the element : 11\n",
      "Enter the element : 34\n",
      "Enter the element : 20\n",
      "Enter the index element : 34\n",
      "2\n"
     ]
    }
   ],
   "source": [
    "x=int(input('Enter the no of element : '))\n",
    "i=[]\n",
    "for ele in range(0,x):\n",
    "    a=input('Enter the element : ')\n",
    "    i.append(a)\n",
    "b=input('Enter the index element : ')\n",
    "print(i.index(b))"
   ]
  },
  {
   "cell_type": "markdown",
   "id": "6e37599a",
   "metadata": {},
   "source": [
    "# 40.Reverse the Case"
   ]
  },
  {
   "cell_type": "code",
   "execution_count": 23,
   "id": "98b2c3ea",
   "metadata": {},
   "outputs": [
    {
     "name": "stdout",
     "output_type": "stream",
     "text": [
      "Enter the string : Hello WORld\n",
      "hELLO worLD\n"
     ]
    }
   ],
   "source": [
    "x=input('Enter the string : ')\n",
    "st=''\n",
    "for char in x:\n",
    "    if char.islower():\n",
    "        st+= char.upper()\n",
    "    elif char.isupper():\n",
    "        st+= char.lower()\n",
    "    else:\n",
    "        st+= char\n",
    "print(st)            "
   ]
  },
  {
   "cell_type": "markdown",
   "id": "ce1a8398",
   "metadata": {},
   "source": [
    "# 41.Transform into a List with No Duplicates"
   ]
  },
  {
   "cell_type": "code",
   "execution_count": 25,
   "id": "6a614842",
   "metadata": {},
   "outputs": [
    {
     "name": "stdout",
     "output_type": "stream",
     "text": [
      "Enter the no of element : 5\n",
      "Enter the number : 1\n",
      "Enter the number : 1\n",
      "Enter the number : 2\n",
      "Enter the number : 3\n",
      "Enter the number : 3\n",
      "{1, 2, 3}\n"
     ]
    }
   ],
   "source": [
    "x=int(input('Enter the no of element : '))\n",
    "i=[]\n",
    "for ele in range(0,x):\n",
    "    a=int(input('Enter the number : '))\n",
    "    i.append(a)\n",
    "print(set(i))    "
   ]
  },
  {
   "cell_type": "markdown",
   "id": "aa2cc847",
   "metadata": {},
   "source": [
    "# 42.List of Multiples"
   ]
  },
  {
   "cell_type": "code",
   "execution_count": 26,
   "id": "546ebed2",
   "metadata": {},
   "outputs": [
    {
     "name": "stdout",
     "output_type": "stream",
     "text": [
      "Enter the mutilple number : 7\n",
      "Enter the no of times : 5\n",
      "[7, 14, 21, 28, 35]\n"
     ]
    }
   ],
   "source": [
    "x=int(input('Enter the mutilple number : '))\n",
    "y=int(input('Enter the no of times : '))\n",
    "i=[]\n",
    "for ele in range(1,y+1):\n",
    "    i.append(x*ele)\n",
    "print(i)    "
   ]
  },
  {
   "cell_type": "markdown",
   "id": "51ca826a",
   "metadata": {},
   "source": [
    "# 43.Add the Index\n"
   ]
  },
  {
   "cell_type": "code",
   "execution_count": 28,
   "id": "f85e2e4c",
   "metadata": {},
   "outputs": [
    {
     "name": "stdout",
     "output_type": "stream",
     "text": [
      "Enter the no of input : 5\n",
      "Enter the Number : 0\n",
      "Enter the Number : 0\n",
      "Enter the Number : 0\n",
      "Enter the Number : 0\n",
      "Enter the Number : 0\n",
      "[0, 0, 0, 0, 0] [0, 1, 2, 3, 4]\n"
     ]
    }
   ],
   "source": [
    "x=int(input('Enter the no of input : '))\n",
    "i=[]\n",
    "j=[]\n",
    "for ele in range(0,x):\n",
    "    a=int(input('Enter the Number : '))\n",
    "    i.append(a)\n",
    "    ele+=1\n",
    "n=i[0]\n",
    "for ele in range(0,x):\n",
    "    j.append(i[ele]+n)\n",
    "    n+=1\n",
    "    ele+=1\n",
    "print(i,j)"
   ]
  },
  {
   "cell_type": "markdown",
   "id": "5b500976",
   "metadata": {},
   "source": [
    "# 44.Purge and Organize"
   ]
  },
  {
   "cell_type": "code",
   "execution_count": 29,
   "id": "506bdd5c",
   "metadata": {},
   "outputs": [
    {
     "name": "stdout",
     "output_type": "stream",
     "text": [
      "Enter the no of elements : 7\n",
      "Enter the numbers : 1\n",
      "Enter the numbers : 1\n",
      "Enter the numbers : 1\n",
      "Enter the numbers : 2\n",
      "Enter the numbers : 2\n",
      "Enter the numbers : 3\n",
      "Enter the numbers : 4\n",
      "[1, 1, 1, 2, 2, 3, 4] [1, 2, 3, 4]\n"
     ]
    }
   ],
   "source": [
    "x=int(input('Enter the no of elements : '))\n",
    "i=[]\n",
    "for ele in range(0,x):\n",
    "    a=int(input('Enter the numbers : '))\n",
    "    i.append(a)\n",
    "n=list(dict.fromkeys(i))\n",
    "print(i,n)"
   ]
  },
  {
   "cell_type": "markdown",
   "id": "482a3770",
   "metadata": {},
   "source": [
    "# 45.Capitalize the First Letter of Each Word"
   ]
  },
  {
   "cell_type": "code",
   "execution_count": 31,
   "id": "5a18d74a",
   "metadata": {},
   "outputs": [
    {
     "name": "stdout",
     "output_type": "stream",
     "text": [
      "Enter the string : This is a title\n",
      "This Is A Title\n"
     ]
    }
   ],
   "source": [
    "x=input('Enter the string : ')\n",
    "print(x.title())"
   ]
  },
  {
   "cell_type": "markdown",
   "id": "3922adae",
   "metadata": {},
   "source": [
    "# 46.Find the Mean of All Digits"
   ]
  },
  {
   "cell_type": "code",
   "execution_count": 47,
   "id": "d2bebd24",
   "metadata": {},
   "outputs": [
    {
     "name": "stdout",
     "output_type": "stream",
     "text": [
      "Enter the no of element : 5\n",
      "Enter the number : 1\n",
      "Enter the number : 2\n",
      "Enter the number : 3\n",
      "Enter the number : 4\n",
      "Enter the number : 5\n",
      "3\n"
     ]
    }
   ],
   "source": [
    "x = int(input('Enter the no of element : '))\n",
    "i=[]\n",
    "su = 0\n",
    "for ele in range(0,x):\n",
    "    a=int(input('Enter the number : '))\n",
    "    i.append(a)\n",
    "    su +=i[ele]\n",
    "    ele+=1\n",
    "print(int(su/x))    "
   ]
  },
  {
   "cell_type": "markdown",
   "id": "da6aa55a",
   "metadata": {},
   "source": [
    "# 47.Cumulative List Sum "
   ]
  },
  {
   "cell_type": "code",
   "execution_count": 57,
   "id": "77d6b1ca",
   "metadata": {},
   "outputs": [
    {
     "name": "stdout",
     "output_type": "stream",
     "text": [
      "Enter the no of input : 3\n",
      "Enter the Number : 1\n",
      "Enter the Number : -2\n",
      "Enter the Number : 3\n",
      "[1, -2, 3] [1, -1, 2]\n"
     ]
    }
   ],
   "source": [
    "x=int(input('Enter the no of input : '))\n",
    "i=[]\n",
    "j=[]\n",
    "for ele in range(0,x):\n",
    "    a=int(input('Enter the Number : '))\n",
    "    i.append(a)\n",
    "    ele+=1   \n",
    "for ele in range(0,1):\n",
    "    j.append(i[ele])\n",
    "n=0     \n",
    "for ele in range(1,2):    \n",
    "    j.append(i[ele]+i[n])\n",
    "    n+=1\n",
    "for ele in range(2,3):    \n",
    "    j.append(i[ele]+j[n])\n",
    "    n+=1\n",
    "print(i,j)"
   ]
  },
  {
   "cell_type": "markdown",
   "id": "3d441f52",
   "metadata": {},
   "source": [
    "# 48.Even and Odd Strings"
   ]
  },
  {
   "cell_type": "code",
   "execution_count": 59,
   "id": "27e94fe5",
   "metadata": {},
   "outputs": [
    {
     "name": "stdout",
     "output_type": "stream",
     "text": [
      "Enter the String : edabit\n",
      "eai dbt\n"
     ]
    }
   ],
   "source": [
    "x=input('Enter the String : ')\n",
    "a=''\n",
    "b=''\n",
    "for ele in range (0,len(x)):\n",
    "    if ele%2==0:\n",
    "        a+=x[ele]\n",
    "    else:\n",
    "        b+=x[ele]\n",
    "    ele+=1\n",
    "print(a,b)    "
   ]
  },
  {
   "cell_type": "markdown",
   "id": "729858c4",
   "metadata": {},
   "source": [
    "# 49.Filter out Strings from an Array"
   ]
  },
  {
   "cell_type": "code",
   "execution_count": 63,
   "id": "c77ce729",
   "metadata": {},
   "outputs": [
    {
     "name": "stdout",
     "output_type": "stream",
     "text": [
      "Enter the no of element : 5\n",
      "Enter the Number : 1\n",
      "Enter the Number : 2\n",
      "Enter the Number : a\n",
      "Enter the Number : b\n",
      "Enter the Number : 3\n",
      "['1', '2', 'a', 'b', '3'] ['1', '2', '3']\n"
     ]
    }
   ],
   "source": [
    "x=int(input('Enter the no of element : '))\n",
    "i=[]\n",
    "n=[]\n",
    "for ele in range(0,x):\n",
    "    a=input('Enter the Number : ')\n",
    "    i.append(a)\n",
    "    if a.isdigit():\n",
    "        n.append(a)\n",
    "print(i,n)    "
   ]
  },
  {
   "cell_type": "markdown",
   "id": "506bf05b",
   "metadata": {},
   "source": [
    "# 50.Mumbling Challenge"
   ]
  },
  {
   "cell_type": "code",
   "execution_count": 67,
   "id": "5171c7c1",
   "metadata": {},
   "outputs": [
    {
     "name": "stdout",
     "output_type": "stream",
     "text": [
      "Enter the String : edabit\n",
      "e-dd-aaa-bbbb-iiiii-tttttt-\n"
     ]
    }
   ],
   "source": [
    "x=input('Enter the String : ')\n",
    "n=''\n",
    "i=0\n",
    "for ele in range(1,len(x)+1):\n",
    "    n+=x[i]*ele+'-'\n",
    "    i+=1\n",
    "print(n)    "
   ]
  }
 ],
 "metadata": {
  "kernelspec": {
   "display_name": "Python 3 (ipykernel)",
   "language": "python",
   "name": "python3"
  },
  "language_info": {
   "codemirror_mode": {
    "name": "ipython",
    "version": 3
   },
   "file_extension": ".py",
   "mimetype": "text/x-python",
   "name": "python",
   "nbconvert_exporter": "python",
   "pygments_lexer": "ipython3",
   "version": "3.8.8"
  }
 },
 "nbformat": 4,
 "nbformat_minor": 5
}
